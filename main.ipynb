{
 "cells": [
  {
   "cell_type": "code",
   "execution_count": 2,
   "metadata": {
    "colab": {
     "base_uri": "https://localhost:8080/",
     "height": 34
    },
    "colab_type": "code",
    "executionInfo": {
     "elapsed": 2617,
     "status": "ok",
     "timestamp": 1569992466013,
     "user": {
      "displayName": "Володимир Сидорук",
      "photoUrl": "https://lh3.googleusercontent.com/a-/AAuE7mBAXoZuQC6VCYndlgDl9_p1a9XGvX3qOJcCfDfgmg=s64",
      "userId": "09612249878097790946"
     },
     "user_tz": -180
    },
    "id": "akgFPmrFITc9",
    "outputId": "5b3a3287-7d61-4bc5-a25d-7d7fc2303c2c"
   },
   "outputs": [
    {
     "name": "stderr",
     "output_type": "stream",
     "text": [
      "Using TensorFlow backend.\n"
     ]
    }
   ],
   "source": [
    "import os\n",
    "import keras\n",
    "from keras.models import Model\n",
    "from keras.applications.vgg16 import preprocess_input\n",
    "from keras.preprocessing.image import ImageDataGenerator\n",
    "from keras.callbacks import ModelCheckpoint, ReduceLROnPlateau\n",
    "from keras.layers import GlobalAveragePooling2D, Dense\n",
    "from keras.optimizers import Adam"
   ]
  },
  {
   "cell_type": "code",
   "execution_count": 13,
   "metadata": {
    "colab": {
     "base_uri": "https://localhost:8080/",
     "height": 34
    },
    "colab_type": "code",
    "executionInfo": {
     "elapsed": 52302,
     "status": "ok",
     "timestamp": 1569992521661,
     "user": {
      "displayName": "Володимир Сидорук",
      "photoUrl": "https://lh3.googleusercontent.com/a-/AAuE7mBAXoZuQC6VCYndlgDl9_p1a9XGvX3qOJcCfDfgmg=s64",
      "userId": "09612249878097790946"
     },
     "user_tz": -180
    },
    "id": "Ejq0Gy-LJRZ6",
    "outputId": "c8bb43c0-9857-48c7-dade-fab2225d097f"
   },
   "outputs": [],
   "source": [
    "# train data\n",
    "train_dir = 'data/train'\n",
    "#validation data\n",
    "val_dir = 'data/val'\n",
    "#test data\n",
    "img_for_test_dir='/data/test'\n",
    "# images shape\n",
    "img_width, img_height = 224, 224\n",
    "# tensor shape\n",
    "input_shape = (img_width, img_height, 3)\n",
    "# number epoch\n",
    "epochs = 40\n",
    "# mini-batch size\n",
    "batch_size = 16"
   ]
  },
  {
   "cell_type": "code",
   "execution_count": 4,
   "metadata": {
    "colab": {
     "base_uri": "https://localhost:8080/",
     "height": 309
    },
    "colab_type": "code",
    "executionInfo": {
     "elapsed": 16457,
     "status": "ok",
     "timestamp": 1569992542608,
     "user": {
      "displayName": "Володимир Сидорук",
      "photoUrl": "https://lh3.googleusercontent.com/a-/AAuE7mBAXoZuQC6VCYndlgDl9_p1a9XGvX3qOJcCfDfgmg=s64",
      "userId": "09612249878097790946"
     },
     "user_tz": -180
    },
    "id": "8S1U_E9RZhXU",
    "outputId": "d3a6c3db-b027-4927-f735-004a8356fe22"
   },
   "outputs": [
    {
     "name": "stderr",
     "output_type": "stream",
     "text": [
      "WARNING: Logging before flag parsing goes to stderr.\n",
      "W1004 15:41:13.306985 11936 deprecation_wrapper.py:119] From C:\\Users\\Elena\\Anaconda3\\envs\\PythonGPU\\lib\\site-packages\\keras\\backend\\tensorflow_backend.py:74: The name tf.get_default_graph is deprecated. Please use tf.compat.v1.get_default_graph instead.\n",
      "\n",
      "W1004 15:41:15.287275 11936 deprecation_wrapper.py:119] From C:\\Users\\Elena\\Anaconda3\\envs\\PythonGPU\\lib\\site-packages\\keras\\backend\\tensorflow_backend.py:517: The name tf.placeholder is deprecated. Please use tf.compat.v1.placeholder instead.\n",
      "\n",
      "W1004 15:41:16.193594 11936 deprecation_wrapper.py:119] From C:\\Users\\Elena\\Anaconda3\\envs\\PythonGPU\\lib\\site-packages\\keras\\backend\\tensorflow_backend.py:4185: The name tf.truncated_normal is deprecated. Please use tf.random.truncated_normal instead.\n",
      "\n",
      "W1004 15:41:16.553742 11936 deprecation_wrapper.py:119] From C:\\Users\\Elena\\Anaconda3\\envs\\PythonGPU\\lib\\site-packages\\keras\\backend\\tensorflow_backend.py:174: The name tf.get_default_session is deprecated. Please use tf.compat.v1.get_default_session instead.\n",
      "\n",
      "W1004 15:41:16.558744 11936 deprecation_wrapper.py:119] From C:\\Users\\Elena\\Anaconda3\\envs\\PythonGPU\\lib\\site-packages\\keras\\backend\\tensorflow_backend.py:181: The name tf.ConfigProto is deprecated. Please use tf.compat.v1.ConfigProto instead.\n",
      "\n",
      "W1004 15:41:23.117038 11936 deprecation_wrapper.py:119] From C:\\Users\\Elena\\Anaconda3\\envs\\PythonGPU\\lib\\site-packages\\keras\\backend\\tensorflow_backend.py:1834: The name tf.nn.fused_batch_norm is deprecated. Please use tf.compat.v1.nn.fused_batch_norm instead.\n",
      "\n",
      "W1004 15:41:23.686005 11936 deprecation_wrapper.py:119] From C:\\Users\\Elena\\Anaconda3\\envs\\PythonGPU\\lib\\site-packages\\keras\\backend\\tensorflow_backend.py:3976: The name tf.nn.max_pool is deprecated. Please use tf.nn.max_pool2d instead.\n",
      "\n",
      "C:\\Users\\Elena\\Anaconda3\\envs\\PythonGPU\\lib\\site-packages\\keras_applications\\resnet50.py:265: UserWarning: The output shape of `ResNet50(include_top=False)` has been changed since Keras 2.2.0.\n",
      "  warnings.warn('The output shape of `ResNet50(include_top=False)` '\n"
     ]
    }
   ],
   "source": [
    "model_resnet50=keras.applications.resnet50.ResNet50(include_top=False,\n",
    "                                               weights=\"imagenet\",\n",
    "                                               input_shape=input_shape)"
   ]
  },
  {
   "cell_type": "code",
   "execution_count": 7,
   "metadata": {
    "colab": {},
    "colab_type": "code",
    "id": "MSvvcziiJXrH"
   },
   "outputs": [],
   "source": [
    "# add a global spatial average pooling layer\n",
    "x = model_resnet50.output\n",
    "x = GlobalAveragePooling2D()(x)\n",
    "\n",
    "predictions = Dense(10, activation='softmax')(x)\n",
    "\n",
    "# this is the model we will train\n",
    "model = Model(inputs=model_resnet50.input, outputs=predictions)"
   ]
  },
  {
   "cell_type": "code",
   "execution_count": 8,
   "metadata": {
    "colab": {
     "base_uri": "https://localhost:8080/",
     "height": 71
    },
    "colab_type": "code",
    "executionInfo": {
     "elapsed": 1017,
     "status": "ok",
     "timestamp": 1569992548973,
     "user": {
      "displayName": "Володимир Сидорук",
      "photoUrl": "https://lh3.googleusercontent.com/a-/AAuE7mBAXoZuQC6VCYndlgDl9_p1a9XGvX3qOJcCfDfgmg=s64",
      "userId": "09612249878097790946"
     },
     "user_tz": -180
    },
    "id": "y8Kij28TJaoe",
    "outputId": "ac8045e7-081d-4003-9ac0-8541c318896d"
   },
   "outputs": [
    {
     "name": "stderr",
     "output_type": "stream",
     "text": [
      "W1004 15:44:37.066808 11936 deprecation_wrapper.py:119] From C:\\Users\\Elena\\Anaconda3\\envs\\PythonGPU\\lib\\site-packages\\keras\\optimizers.py:790: The name tf.train.Optimizer is deprecated. Please use tf.compat.v1.train.Optimizer instead.\n",
      "\n"
     ]
    }
   ],
   "source": [
    "optimizer=Adam(lr=0.00001)\n",
    "\n",
    "model.compile(loss='categorical_crossentropy',\n",
    "              optimizer=optimizer,\n",
    "              metrics=['accuracy'])\n"
   ]
  },
  {
   "cell_type": "code",
   "execution_count": 14,
   "metadata": {
    "colab": {
     "base_uri": "https://localhost:8080/",
     "height": 51
    },
    "colab_type": "code",
    "executionInfo": {
     "elapsed": 2404,
     "status": "ok",
     "timestamp": 1569992559017,
     "user": {
      "displayName": "Володимир Сидорук",
      "photoUrl": "https://lh3.googleusercontent.com/a-/AAuE7mBAXoZuQC6VCYndlgDl9_p1a9XGvX3qOJcCfDfgmg=s64",
      "userId": "09612249878097790946"
     },
     "user_tz": -180
    },
    "id": "mRqYJqykJdu_",
    "outputId": "6efc3535-2172-4d09-8e01-0dfc1f98fd66"
   },
   "outputs": [
    {
     "name": "stdout",
     "output_type": "stream",
     "text": [
      "Found 22424 images belonging to 10 classes.\n",
      "Found 100 images belonging to 10 classes.\n"
     ]
    }
   ],
   "source": [
    "train_datagen = ImageDataGenerator(preprocessing_function=preprocess_input)\n",
    "                                  \n",
    "\n",
    "\n",
    "train_generator = train_datagen.flow_from_directory(\n",
    "    train_dir,\n",
    "    target_size=(img_width, img_height),\n",
    "    batch_size=batch_size,\n",
    "    class_mode='categorical')\n",
    "\n",
    "val_generator = train_datagen.flow_from_directory(\n",
    "    val_dir,\n",
    "    target_size=(img_width, img_height),\n",
    "    batch_size=100,\n",
    "    class_mode='categorical')"
   ]
  },
  {
   "cell_type": "code",
   "execution_count": 15,
   "metadata": {
    "colab": {},
    "colab_type": "code",
    "id": "aa__1Eo-JhyG"
   },
   "outputs": [],
   "source": [
    "reducelronplateau=ReduceLROnPlateau(monitor='val_loss',         #callback which reduces the speed of training if the losses do not decrease\n",
    "                                    factor=0.1,\n",
    "                                    patience=10)\n",
    "\n",
    "callbacks=[ModelCheckpoint(\"saved_models/drivedetvgg16-dense-{epoch:02d}-{val_acc:.4f}.hdf5\"),reducelronplateau]"
   ]
  },
  {
   "cell_type": "code",
   "execution_count": null,
   "metadata": {
    "colab": {
     "base_uri": "https://localhost:8080/",
     "height": 374
    },
    "colab_type": "code",
    "executionInfo": {
     "elapsed": 892130,
     "status": "error",
     "timestamp": 1569993548212,
     "user": {
      "displayName": "Володимир Сидорук",
      "photoUrl": "https://lh3.googleusercontent.com/a-/AAuE7mBAXoZuQC6VCYndlgDl9_p1a9XGvX3qOJcCfDfgmg=s64",
      "userId": "09612249878097790946"
     },
     "user_tz": -180
    },
    "id": "VJPE8__nJkaW",
    "outputId": "b1c2acee-255d-458f-bdc3-4b43319dfbab"
   },
   "outputs": [
    {
     "name": "stderr",
     "output_type": "stream",
     "text": [
      "W1004 15:52:46.759339 11936 deprecation.py:323] From C:\\Users\\Elena\\Anaconda3\\envs\\PythonGPU\\lib\\site-packages\\tensorflow\\python\\ops\\math_grad.py:1250: add_dispatch_support.<locals>.wrapper (from tensorflow.python.ops.array_ops) is deprecated and will be removed in a future version.\n",
      "Instructions for updating:\n",
      "Use tf.where in 2.0, which has the same broadcast rule as np.where\n"
     ]
    },
    {
     "name": "stdout",
     "output_type": "stream",
     "text": [
      "Epoch 1/40\n"
     ]
    }
   ],
   "source": [
    "model.fit_generator(\n",
    "    train_generator,\n",
    "    steps_per_epoch=train_generator.samples // batch_size,\n",
    "    epochs=epochs,\n",
    "    validation_data=val_generator,\n",
    "    validation_steps=val_generator.samples // 100,\n",
    "    callbacks=callbacks)\n"
   ]
  }
 ],
 "metadata": {
  "accelerator": "GPU",
  "colab": {
   "collapsed_sections": [],
   "name": "VGG16.ipynb",
   "provenance": []
  },
  "kernelspec": {
   "display_name": "Python 3",
   "language": "python",
   "name": "python3"
  },
  "language_info": {
   "codemirror_mode": {
    "name": "ipython",
    "version": 3
   },
   "file_extension": ".py",
   "mimetype": "text/x-python",
   "name": "python",
   "nbconvert_exporter": "python",
   "pygments_lexer": "ipython3",
   "version": "3.7.4"
  }
 },
 "nbformat": 4,
 "nbformat_minor": 1
}
