{
 "cells": [
  {
   "cell_type": "code",
   "execution_count": 15,
   "metadata": {
    "colab": {
     "base_uri": "https://localhost:8080/",
     "height": 34
    },
    "colab_type": "code",
    "executionInfo": {
     "elapsed": 2478,
     "status": "ok",
     "timestamp": 1569996758903,
     "user": {
      "displayName": "Володимир Сидорук",
      "photoUrl": "https://lh3.googleusercontent.com/a-/AAuE7mBAXoZuQC6VCYndlgDl9_p1a9XGvX3qOJcCfDfgmg=s64",
      "userId": "09612249878097790946"
     },
     "user_tz": -180
    },
    "id": "G_lEclzsmfG4",
    "outputId": "1bb0488a-21b4-4e56-ff7a-79ead0b92df1"
   },
   "outputs": [],
   "source": [
    "import os\n",
    "import numpy as np\n",
    "from tensorflow.python.keras.models import save_model, load_model\n",
    "from tensorflow.python.keras.preprocessing.image import ImageDataGenerator\n",
    "from tensorflow.python.keras.applications.vgg16 import preprocess_input"
   ]
  },
  {
   "cell_type": "code",
   "execution_count": 9,
   "metadata": {
    "colab": {},
    "colab_type": "code",
    "id": "j-mrsFwomfHQ"
   },
   "outputs": [],
   "source": [
    "pred_dict={0: \"safe driving\", \n",
    "           1: \"texting - right\",\n",
    "           2: \"talking on the phone - right\",\n",
    "           3: \"texting - left\",\n",
    "           4: \"talking on the phone - left\",\n",
    "           5: \"operating the radio\",\n",
    "           6: \"drinking\",\n",
    "           7: \"reaching behind\",\n",
    "           8: \"hair and makeup\",\n",
    "           9: \"talking to passenger\"}"
   ]
  },
  {
   "cell_type": "code",
   "execution_count": 18,
   "metadata": {
    "colab": {
     "base_uri": "https://localhost:8080/",
     "height": 34
    },
    "colab_type": "code",
    "executionInfo": {
     "elapsed": 589,
     "status": "ok",
     "timestamp": 1570002069377,
     "user": {
      "displayName": "Володимир Сидорук",
      "photoUrl": "https://lh3.googleusercontent.com/a-/AAuE7mBAXoZuQC6VCYndlgDl9_p1a9XGvX3qOJcCfDfgmg=s64",
      "userId": "09612249878097790946"
     },
     "user_tz": -180
    },
    "id": "cr0BtFfCmfHY",
    "outputId": "832dcda6-df4a-42e7-9ea5-ad567cd6ed16"
   },
   "outputs": [
    {
     "name": "stdout",
     "output_type": "stream",
     "text": [
      "Found 11 images belonging to 1 classes.\n"
     ]
    }
   ],
   "source": [
    "# test dir\n",
    "test_dir_full = 'data/test_min/1'\n",
    "# test dir without last folder name\n",
    "test_dir = 'data/test_min'\n",
    "\n",
    "# shape\n",
    "img_width, img_height = 224, 224\n",
    "\n",
    "input_shape = (img_width, img_height, 3)\n",
    "#number epoch\n",
    "epochs = 1\n",
    "# mini-batch size\n",
    "batch_size = 10\n",
    "\n",
    "\n",
    "datagen = ImageDataGenerator(preprocessing_function=preprocess_input)\n",
    "\n",
    "test_generator = datagen.flow_from_directory(\n",
    "    test_dir,\n",
    "    target_size=(img_width, img_height),\n",
    "    class_mode=None,\n",
    "    shuffle=False)"
   ]
  },
  {
   "cell_type": "code",
   "execution_count": 11,
   "metadata": {
    "colab": {},
    "colab_type": "code",
    "id": "uE2BddRMmfHk"
   },
   "outputs": [],
   "source": [
    "test_generator.reset()"
   ]
  },
  {
   "cell_type": "code",
   "execution_count": 13,
   "metadata": {
    "colab": {},
    "colab_type": "code",
    "id": "fL5EyHRWn168"
   },
   "outputs": [],
   "source": [
    "model = load_model(\"saved_models/drivedetvgg16-dense-03-0.9440.hdf5\")"
   ]
  },
  {
   "cell_type": "code",
   "execution_count": 19,
   "metadata": {
    "colab": {
     "base_uri": "https://localhost:8080/",
     "height": 85
    },
    "colab_type": "code",
    "executionInfo": {
     "elapsed": 1292,
     "status": "ok",
     "timestamp": 1570002029532,
     "user": {
      "displayName": "Володимир Сидорук",
      "photoUrl": "https://lh3.googleusercontent.com/a-/AAuE7mBAXoZuQC6VCYndlgDl9_p1a9XGvX3qOJcCfDfgmg=s64",
      "userId": "09612249878097790946"
     },
     "user_tz": -180
    },
    "id": "1WPYCzUDmfH1",
    "outputId": "ad877682-14d8-458a-9ad3-2969898210c3",
    "scrolled": true
   },
   "outputs": [
    {
     "name": "stdout",
     "output_type": "stream",
     "text": [
      "1/1 [==============================] - 30s 30s/step\n",
      "img_100008.jpg hair and makeup\n",
      "img_10009.jpg hair and makeup\n",
      "img_1001.jpg operating the radio\n",
      "img_10010.jpg texting - left\n",
      "img_69.jpg drinking\n",
      "img_71.jpg texting - right\n",
      "img_73.jpg texting - right\n",
      "img_74.jpg talking to passenger\n",
      "img_76.jpg texting - left\n",
      "img_78.jpg operating the radio\n",
      "img_80.jpg drinking\n"
     ]
    }
   ],
   "source": [
    "pred=model.predict_generator(test_generator, verbose=1, workers=1)                  \n",
    "for i in range(len(pred)):\n",
    "    val=np.argmax(pred,axis=1)[i]\n",
    "    print(os.listdir(test_dir_full)[i],pred_dict[val])"
   ]
  }
 ],
 "metadata": {
  "accelerator": "GPU",
  "colab": {
   "collapsed_sections": [],
   "name": "pred_2.ipynb",
   "provenance": [
    {
     "file_id": "1r7M8yDO9A55WxyOHWSaJBF1r_axieEDZ",
     "timestamp": 1569736771613
    }
   ]
  },
  "kernelspec": {
   "display_name": "Python 3",
   "language": "python",
   "name": "python3"
  },
  "language_info": {
   "codemirror_mode": {
    "name": "ipython",
    "version": 3
   },
   "file_extension": ".py",
   "mimetype": "text/x-python",
   "name": "python",
   "nbconvert_exporter": "python",
   "pygments_lexer": "ipython3",
   "version": "3.7.4"
  }
 },
 "nbformat": 4,
 "nbformat_minor": 1
}
