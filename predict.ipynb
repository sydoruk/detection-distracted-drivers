{
 "cells": [
  {
   "cell_type": "code",
   "execution_count": 5,
   "metadata": {
    "colab": {
     "base_uri": "https://localhost:8080/",
     "height": 122
    },
    "colab_type": "code",
    "executionInfo": {
     "elapsed": 34309,
     "status": "ok",
     "timestamp": 1569996818083,
     "user": {
      "displayName": "Володимир Сидорук",
      "photoUrl": "https://lh3.googleusercontent.com/a-/AAuE7mBAXoZuQC6VCYndlgDl9_p1a9XGvX3qOJcCfDfgmg=s64",
      "userId": "09612249878097790946"
     },
     "user_tz": -180
    },
    "id": "yL2-va-gmfHG",
    "outputId": "3049543d-9410-46cc-a818-e3b044a5c3f5"
   },
   "outputs": [
    {
     "name": "stdout",
     "output_type": "stream",
     "text": [
      "Go to this URL in a browser: https://accounts.google.com/o/oauth2/auth?client_id=947318989803-6bn6qk8qdgf4n4g3pfee6491hc0brc4i.apps.googleusercontent.com&redirect_uri=urn%3Aietf%3Awg%3Aoauth%3A2.0%3Aoob&scope=email%20https%3A%2F%2Fwww.googleapis.com%2Fauth%2Fdocs.test%20https%3A%2F%2Fwww.googleapis.com%2Fauth%2Fdrive%20https%3A%2F%2Fwww.googleapis.com%2Fauth%2Fdrive.photos.readonly%20https%3A%2F%2Fwww.googleapis.com%2Fauth%2Fpeopleapi.readonly&response_type=code\n",
      "\n",
      "Enter your authorization code:\n",
      "··········\n",
      "Mounted at /content/drive\n"
     ]
    }
   ],
   "source": [
    "from google.colab import drive\n",
    "drive.mount('/content/drive')"
   ]
  },
  {
   "cell_type": "code",
   "execution_count": 1,
   "metadata": {
    "colab": {
     "base_uri": "https://localhost:8080/",
     "height": 34
    },
    "colab_type": "code",
    "executionInfo": {
     "elapsed": 2478,
     "status": "ok",
     "timestamp": 1569996758903,
     "user": {
      "displayName": "Володимир Сидорук",
      "photoUrl": "https://lh3.googleusercontent.com/a-/AAuE7mBAXoZuQC6VCYndlgDl9_p1a9XGvX3qOJcCfDfgmg=s64",
      "userId": "09612249878097790946"
     },
     "user_tz": -180
    },
    "id": "G_lEclzsmfG4",
    "outputId": "1bb0488a-21b4-4e56-ff7a-79ead0b92df1"
   },
   "outputs": [
    {
     "name": "stderr",
     "output_type": "stream",
     "text": [
      "Using TensorFlow backend.\n"
     ]
    }
   ],
   "source": [
    "import numpy as np\n",
    "from tensorflow.python.keras.models import save_model, load_model\n",
    "from tensorflow.python.keras.preprocessing.image import ImageDataGenerator\n",
    "from keras.applications.vgg16 import preprocess_input"
   ]
  },
  {
   "cell_type": "code",
   "execution_count": 0,
   "metadata": {
    "colab": {},
    "colab_type": "code",
    "id": "j-mrsFwomfHQ"
   },
   "outputs": [],
   "source": [
    "pred_dict={0: \"safe driving\", \n",
    "           1: \"texting - right\",\n",
    "           2: \"talking on the phone - right\",\n",
    "           3: \"texting - left\",\n",
    "           4: \"talking on the phone - left\",\n",
    "           5: \"operating the radio\",\n",
    "           6: \"drinking\",\n",
    "           7: \"reaching behind\",\n",
    "           8: \"hair and makeup\",\n",
    "           9: \"talking to passenger\"}"
   ]
  },
  {
   "cell_type": "code",
   "execution_count": 1,
   "metadata": {
    "colab": {
     "base_uri": "https://localhost:8080/",
     "height": 34
    },
    "colab_type": "code",
    "executionInfo": {
     "elapsed": 589,
     "status": "ok",
     "timestamp": 1570002069377,
     "user": {
      "displayName": "Володимир Сидорук",
      "photoUrl": "https://lh3.googleusercontent.com/a-/AAuE7mBAXoZuQC6VCYndlgDl9_p1a9XGvX3qOJcCfDfgmg=s64",
      "userId": "09612249878097790946"
     },
     "user_tz": -180
    },
    "id": "cr0BtFfCmfHY",
    "outputId": "832dcda6-df4a-42e7-9ea5-ad567cd6ed16"
   },
   "outputs": [
    {
     "ename": "NameError",
     "evalue": "name 'ImageDataGenerator' is not defined",
     "output_type": "error",
     "traceback": [
      "\u001b[1;31m---------------------------------------------------------------------------\u001b[0m",
      "\u001b[1;31mNameError\u001b[0m                                 Traceback (most recent call last)",
      "\u001b[1;32m<ipython-input-1-d56bf44f2c7e>\u001b[0m in \u001b[0;36m<module>\u001b[1;34m\u001b[0m\n\u001b[0;32m     12\u001b[0m \u001b[1;33m\u001b[0m\u001b[0m\n\u001b[0;32m     13\u001b[0m \u001b[1;33m\u001b[0m\u001b[0m\n\u001b[1;32m---> 14\u001b[1;33m \u001b[0mdatagen\u001b[0m \u001b[1;33m=\u001b[0m \u001b[0mImageDataGenerator\u001b[0m\u001b[1;33m(\u001b[0m\u001b[0mpreprocessing_function\u001b[0m\u001b[1;33m=\u001b[0m\u001b[0mpreprocess_input\u001b[0m\u001b[1;33m)\u001b[0m\u001b[1;33m\u001b[0m\u001b[1;33m\u001b[0m\u001b[0m\n\u001b[0m\u001b[0;32m     15\u001b[0m \u001b[1;33m\u001b[0m\u001b[0m\n\u001b[0;32m     16\u001b[0m test_generator = datagen.flow_from_directory(\n",
      "\u001b[1;31mNameError\u001b[0m: name 'ImageDataGenerator' is not defined"
     ]
    }
   ],
   "source": [
    "# test dir\n",
    "test_dir = '/content/drive/My Drive/project_cnn/driver_detection/data/test_valid'\n",
    "test_dir_last=\"test_valid\"\n",
    "# shape\n",
    "img_width, img_height = 224, 224\n",
    "\n",
    "input_shape = (img_width, img_height, 3)\n",
    "#number epoch\n",
    "epochs = 1\n",
    "# mini-batch size\n",
    "batch_size = 10\n",
    "\n",
    "\n",
    "datagen = ImageDataGenerator(preprocessing_function=preprocess_input)\n",
    "\n",
    "test_generator = datagen.flow_from_directory(\n",
    "    test_dir,\n",
    "    target_size=(img_width, img_height),\n",
    "    class_mode=None,\n",
    "    shuffle=False)"
   ]
  },
  {
   "cell_type": "code",
   "execution_count": 0,
   "metadata": {
    "colab": {},
    "colab_type": "code",
    "id": "uE2BddRMmfHk"
   },
   "outputs": [],
   "source": [
    "test_generator.reset()"
   ]
  },
  {
   "cell_type": "code",
   "execution_count": 0,
   "metadata": {
    "colab": {},
    "colab_type": "code",
    "id": "fL5EyHRWn168"
   },
   "outputs": [],
   "source": [
    "model = load_model(\"/content/drive/My Drive/project_cnn/driver_detection/saved_models_vgg16/drivedetvgg16-dense-03-0.9440.hdf5\")"
   ]
  },
  {
   "cell_type": "code",
   "execution_count": 54,
   "metadata": {
    "colab": {
     "base_uri": "https://localhost:8080/",
     "height": 85
    },
    "colab_type": "code",
    "executionInfo": {
     "elapsed": 1292,
     "status": "ok",
     "timestamp": 1570002029532,
     "user": {
      "displayName": "Володимир Сидорук",
      "photoUrl": "https://lh3.googleusercontent.com/a-/AAuE7mBAXoZuQC6VCYndlgDl9_p1a9XGvX3qOJcCfDfgmg=s64",
      "userId": "09612249878097790946"
     },
     "user_tz": -180
    },
    "id": "1WPYCzUDmfH1",
    "outputId": "ad877682-14d8-458a-9ad3-2969898210c3",
    "scrolled": true
   },
   "outputs": [
    {
     "name": "stdout",
     "output_type": "stream",
     "text": [
      "\r",
      "1/1 [==============================] - 1s 662ms/step\n",
      "reaching behind\n",
      "hair and makeup\n",
      "texting - left\n"
     ]
    }
   ],
   "source": [
    "pred=model.predict_generator(test_generator, verbose=1, workers=1)                   #2:16\n",
    "for i in range(len(pred)):\n",
    "    val=np.argmax(pred,axis=1)[i]\n",
    "    print(os.listdir(os.path.join(test_dir,test_dir_last))[i],pred_dict[val])"
   ]
  },
  {
   "cell_type": "code",
   "execution_count": 0,
   "metadata": {
    "colab": {
     "base_uri": "https://localhost:8080/",
     "height": 34
    },
    "colab_type": "code",
    "executionInfo": {
     "elapsed": 96491,
     "status": "ok",
     "timestamp": 1569863390574,
     "user": {
      "displayName": "Володимир Сидорук",
      "photoUrl": "https://lh3.googleusercontent.com/a-/AAuE7mBAXoZuQC6VCYndlgDl9_p1a9XGvX3qOJcCfDfgmg=s64",
      "userId": "09612249878097790946"
     },
     "user_tz": -180
    },
    "id": "IRBuSBd5mfHt",
    "outputId": "cbd86c18-b03b-4589-83b3-ca62755dbb8b"
   },
   "outputs": [
    {
     "name": "stdout",
     "output_type": "stream",
     "text": [
      "Accuracy =  [0.5378882685734425, 0.84]\n"
     ]
    }
   ],
   "source": [
    "scores = model.evaluate_generator(test_generator, steps=None)\n",
    "print(\"Accuracy = \", scores)"
   ]
  }
 ],
 "metadata": {
  "accelerator": "GPU",
  "colab": {
   "collapsed_sections": [],
   "name": "pred_2.ipynb",
   "provenance": [
    {
     "file_id": "1r7M8yDO9A55WxyOHWSaJBF1r_axieEDZ",
     "timestamp": 1569736771613
    }
   ]
  },
  "kernelspec": {
   "display_name": "Python 3",
   "language": "python",
   "name": "python3"
  },
  "language_info": {
   "codemirror_mode": {
    "name": "ipython",
    "version": 3
   },
   "file_extension": ".py",
   "mimetype": "text/x-python",
   "name": "python",
   "nbconvert_exporter": "python",
   "pygments_lexer": "ipython3",
   "version": "3.7.4"
  }
 },
 "nbformat": 4,
 "nbformat_minor": 1
}
